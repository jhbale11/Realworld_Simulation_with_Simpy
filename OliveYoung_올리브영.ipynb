{
 "cells": [
  {
   "cell_type": "markdown",
   "metadata": {},
   "source": [
    "# OliveYoung_올리브영\n",
    "\n",
    "제한된 수의 `카운터`, 제한된 수의 `종업원`과 랜덤하게 도착하는 `고객`으로 이루어진 올리브영 시뮬레이션 환경을 생성합니다.\n",
    "\n",
    "이 시뮬레이션에서 매장에는 여러 명의 종업원이 있으며, 종업원은 카운터와 상품 진열, 안내 업무를 랜덤하게 담당합니다. 종업원마다 정해진 업무가 없다는 뜻입니다. 고객은 쇼핑하는데 특정 시간이 걸리며, 결제를 위해 카운터 대기열에 들어갑니다.\n",
    "\n",
    "시뮬레이션을 수정하여 고객 도착율, 대기열 및 계산대의 용량 등을 조정할 수 있습니다. 또한, 대기 시간과 구매량, 각 계산대별 거래량 등의 추가 통계 정보를 수집할 수 있습니다."
   ]
  },
  {
   "cell_type": "code",
   "execution_count": 15,
   "metadata": {},
   "outputs": [],
   "source": [
    "import simpy\n",
    "import random\n",
    "\n",
    "# 올리브영 시뮬레이션\n",
    "class OliveYoungSimulation:\n",
    "    def __init__(self, env, num_counters, num_guides, shopping_time_mean, shopping_time_std,service_time_mean, service_time_std):\n",
    "        self.env = env\n",
    "        self.counters = [simpy.Resource(env) for _ in range(num_counters)]\n",
    "        self.guides = [simpy.Resource(env) for _ in range(num_guides)]\n",
    "        self.shopping_time_mean = shopping_time_mean\n",
    "        self.shopping_time_std = shopping_time_std\n",
    "        self.service_time_mean = service_time_mean\n",
    "        self.service_time_std = service_time_std\n",
    "\n",
    "    # 주문 처리\n",
    "    def process_order(self, customer):\n",
    "        # 일하는 카운터 선택\n",
    "        counter_idx = random.randint(0, len(self.counters)-1)\n",
    "        counter = self.counters[counter_idx]\n",
    "        \n",
    "        # 안내 종업원 선택\n",
    "        guide = random.choice(self.guides)\n",
    "        with guide.request() as req:\n",
    "            yield req\n",
    "            shopping_time = random.gauss(mu=self.shopping_time_mean, sigma=self.shopping_time_std)\n",
    "            yield self.env.timeout(shopping_time)\n",
    "            print(\"======(똑같은 말투와 힘빠진 표정으로) 찾으시는 상품이 있으시면 말씀해주세요======\")\n",
    "\n",
    "        # 카운터 큐에서 대기 중인 고객 수\n",
    "        queue_len = len(counter.queue)\n",
    "        print(f'{self.env.now:.2f}: {customer}님이 {counter_idx}번 카운터에 대기합니다.(대기열 {queue_len}명)')\n",
    "\n",
    "        with counter.request() as req:\n",
    "            yield req\n",
    "            # 결제 종업원 선택\n",
    "            guide = random.choice(self.guides)\n",
    "            with guide.request() as req:\n",
    "                yield req\n",
    "                # 결제 시간\n",
    "                print(f'{self.env.now:.2f}: {customer}님 CJ 포인트 적입하시나요?')\n",
    "                service_time = random.gauss(mu=self.service_time_mean, sigma=self.service_time_std)\n",
    "                yield self.env.timeout(service_time)\n",
    "                print(f'{self.env.now:.2f}: (결제 {service_time:.1f}분 소요){customer}님 영수증은 앱으로 확인 가능하십니다. 감사합니다:)')\n"
   ]
  },
  {
   "cell_type": "code",
   "execution_count": 16,
   "metadata": {},
   "outputs": [],
   "source": [
    "    # 고객 생성\n",
    "    def generate_customers(self, interarrival_time_mean):\n",
    "        customer_count = 0\n",
    "        while True:\n",
    "            # 고객 도착 시간\n",
    "            interarrival_time = random.expovariate(1/interarrival_time_mean)\n",
    "            yield self.env.timeout(interarrival_time)\n",
    "            customer = f'{customer_count}번 고객'\n",
    "            customer_count += 1\n",
    "            print(f'{self.env.now:.2f}: ------{customer} 입장------')\n",
    "            self.env.process(self.process_order(customer))"
   ]
  },
  {
   "cell_type": "code",
   "execution_count": null,
   "metadata": {},
   "outputs": [],
   "source": [
    "# 시뮬레이션 파라미터 설정\n",
    "num_counters = 2  # 카운터 수\n",
    "num_guides = 5  # 안내 종업원 수\n",
    "shopping_time_mean = 2.0\n",
    "shopping_time_std = 0.5\n",
    "service_time_mean = 2.0  # 결제 시간 평균\n",
    "service_time_std = 0.5  # 결제 시간 표준편차\n",
    "interarrival_time_mean = 1.0  # 고객 도착 평균 간격\n",
    "\n",
    "# 올리브영 시뮬레이션 실행\n",
    "print('########### 올리브영 시뮬레이션 시작! ##############')\n",
    "env = simpy.Environment()\n",
    "oliveyoung = OliveYoungSimulation(env, num_counters, num_guides, shopping_time_mean, shopping_time_std, service_time_mean, service_time_std)\n",
    "env.process(oliveyoung.generate_customers(interarrival_time_mean))\n",
    "env.run(until=50.0)  # 시뮬레이션 시간"
   ]
  }
 ],
 "metadata": {
  "kernelspec": {
   "display_name": "Python 3.7.15 ('gan')",
   "language": "python",
   "name": "python3"
  },
  "language_info": {
   "codemirror_mode": {
    "name": "ipython",
    "version": 3
   },
   "file_extension": ".py",
   "mimetype": "text/x-python",
   "name": "python",
   "nbconvert_exporter": "python",
   "pygments_lexer": "ipython3",
   "version": "3.7.15"
  },
  "orig_nbformat": 4,
  "vscode": {
   "interpreter": {
    "hash": "9e81441b0ff7649e145670e79e2443d2542d5d4a20f1371e469844b0d0bc0557"
   }
  }
 },
 "nbformat": 4,
 "nbformat_minor": 2
}
