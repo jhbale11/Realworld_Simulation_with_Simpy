{
 "cells": [
  {
   "cell_type": "markdown",
   "metadata": {},
   "source": [
    "# Baemin_배달의 민족\n"
   ]
  },
  {
   "cell_type": "code",
   "execution_count": 42,
   "metadata": {},
   "outputs": [],
   "source": [
    "import simpy\n",
    "import random\n",
    "\n",
    "RANDOM_SEED = 42\n",
    "NUM_COOKS = 2\n",
    "NUM_DELIVERY_STAFF = 3\n",
    "SIM_TIME = 120\n",
    "\n",
    "FOOD_MENU = {'김밥': 2500, '순대': 3000, '라면': 3500, '떡볶이': 4000}\n",
    "\n",
    "\n",
    "class Customer:\n",
    "    def __init__(self, env, restaurant, delivery):\n",
    "        self.env = env\n",
    "        self.restaurant = restaurant\n",
    "        self.delivery = delivery\n",
    "        self.items = []\n",
    "        self.num_items = 0\n",
    "        self.price = 0\n",
    "\n",
    "    def order_food(self):\n",
    "        # 고객이 주문할 음식의 종류와 개수를 랜덤으로 생성\n",
    "        for item, price in FOOD_MENU.items():\n",
    "            if random.random() > 0.3:\n",
    "                self.items.append(item)\n",
    "        self.num_items = len(self.items)\n",
    "        self.price = self.restaurant.calculate_price(self.items)\n",
    "        print(f'{round(self.env.now)}분: 고객이 주문을 완료했습니다. 주문내역 - {self.items}, 총 {self.price}원입니다.')\n",
    "        \n",
    "        # 주문 정보를 로그에 남기고, 요리를 시작\n",
    "        self.restaurant.food_orders.append((self.items, num_items))  # 주문을 리스트에 추가        \n",
    "        self.restaurant.cook_food()\n",
    "\n",
    "        self.delivery.add_to_delivery_queue(self)\n",
    "        yield self.env.timeout(0)\n",
    "\n",
    "    def receive_food(self):\n",
    "        print(f'{round(self.env.now)}분: 고객이 음식을 받았습니다.')\n",
    "        yield self.env.timeout(0)\n",
    "\n",
    "        \n",
    "class Restaurant:\n",
    "    def __init__(self, env, num_cooks):\n",
    "        self.env = env\n",
    "        self.num_cooks = num_cooks\n",
    "        self.food_orders = simpy.Store(env)\n",
    "        self.cooking_time = 5\n",
    "        \n",
    "        for i in range(self.num_cooks):\n",
    "            self.env.process(self.cook_food())\n",
    "\n",
    "    def cook_food(self):\n",
    "        while True:\n",
    "            order = yield self.food_orders.get()\n",
    "            yield self.env.timeout(self.cooking_time)\n",
    "            print(f'{round(self.env.now)}분: {order.num_items}개의 {order.items}를 조리했습니다.')\n",
    "\n",
    "    def calculate_price(self, items):\n",
    "        return sum([FOOD_MENU[item] for item in items])\n",
    "\n",
    "\n",
    "class Delivery:\n",
    "    def __init__(self, env, num_delivery_staff):\n",
    "        self.env = env\n",
    "        self.delivery_queue = simpy.Store(env)\n",
    "        self.delivery_time = 10\n",
    "        self.num_delivery_staff = num_delivery_staff\n",
    "        \n",
    "        for i in range(self.num_delivery_staff):\n",
    "            self.env.process(self.deliver_food())\n",
    "\n",
    "    def add_to_delivery_queue(self, customer):\n",
    "        self.delivery_queue.put(customer)\n",
    "\n",
    "    def deliver_food(self):\n",
    "        while True:\n",
    "            customer = yield self.delivery_queue.get()\n",
    "            yield self.env.timeout(self.delivery_time)\n",
    "            print(f'{round(self.env.now)}분: 고객에게 음식을 배달했습니다.')\n",
    "            self.env.process(customer.receive_food())\n",
    "\n",
    "\n",
    "def customer_arrivals(env, num_customers, restaurant, delivery):\n",
    "    for i in range(num_customers):\n",
    "        customer = Customer(env, restaurant, delivery)\n",
    "        env.process(customer.order_food())\n",
    "        inter_arrival_time = random.expovariate(1/5)\n",
    "        yield env.timeout(inter_arrival_time)\n",
    "\n",
    "\n",
    "# 시뮬레이션 함수 정의\n",
    "def run_simulation(env, num_customers, num_cooks, num_delivery_staff):\n",
    "    # 식당, 배달 객체 생성\n",
    "    restaurant = Restaurant(env, num_cooks)\n",
    "    delivery = Delivery(env, num_delivery_staff)\n",
    "\n",
    "    # 고객 도착\n",
    "    for i in range(num_customers):\n",
    "        customer = Customer(env, restaurant, delivery)\n",
    "        env.process(customer.order_food())\n",
    "        # 고객 도착 간격\n",
    "        yield env.timeout(random.randint(1, 5))\n"
   ]
  },
  {
   "cell_type": "code",
   "execution_count": 43,
   "metadata": {},
   "outputs": [
    {
     "name": "stdout",
     "output_type": "stream",
     "text": [
      "0분: 고객이 주문을 완료했습니다. 주문내역 - ['김밥', '라면', '떡볶이'], 총 10000원입니다.\n"
     ]
    },
    {
     "ename": "AttributeError",
     "evalue": "'Store' object has no attribute 'append'",
     "output_type": "error",
     "traceback": [
      "\u001b[0;31m---------------------------------------------------------------------------\u001b[0m",
      "\u001b[0;31mAttributeError\u001b[0m                            Traceback (most recent call last)",
      "\u001b[0;32m/tmp/ipykernel_10969/1072870770.py\u001b[0m in \u001b[0;36morder_food\u001b[0;34m(self)\u001b[0m\n\u001b[1;32m     30\u001b[0m         \u001b[0;31m# 주문 정보를 로그에 남기고, 요리를 시작\u001b[0m\u001b[0;34m\u001b[0m\u001b[0;34m\u001b[0m\u001b[0;34m\u001b[0m\u001b[0m\n\u001b[0;32m---> 31\u001b[0;31m         \u001b[0mself\u001b[0m\u001b[0;34m.\u001b[0m\u001b[0mrestaurant\u001b[0m\u001b[0;34m.\u001b[0m\u001b[0mfood_orders\u001b[0m\u001b[0;34m.\u001b[0m\u001b[0mappend\u001b[0m\u001b[0;34m(\u001b[0m\u001b[0;34m(\u001b[0m\u001b[0mself\u001b[0m\u001b[0;34m.\u001b[0m\u001b[0mitems\u001b[0m\u001b[0;34m,\u001b[0m \u001b[0mnum_items\u001b[0m\u001b[0;34m)\u001b[0m\u001b[0;34m)\u001b[0m  \u001b[0;31m# 주문을 리스트에 추가\u001b[0m\u001b[0;34m\u001b[0m\u001b[0;34m\u001b[0m\u001b[0m\n\u001b[0m\u001b[1;32m     32\u001b[0m         \u001b[0mself\u001b[0m\u001b[0;34m.\u001b[0m\u001b[0mrestaurant\u001b[0m\u001b[0;34m.\u001b[0m\u001b[0mcook_food\u001b[0m\u001b[0;34m(\u001b[0m\u001b[0;34m)\u001b[0m\u001b[0;34m\u001b[0m\u001b[0;34m\u001b[0m\u001b[0m\n",
      "\u001b[0;31mAttributeError\u001b[0m: 'Store' object has no attribute 'append'",
      "\nThe above exception was the direct cause of the following exception:\n",
      "\u001b[0;31mAttributeError\u001b[0m                            Traceback (most recent call last)",
      "\u001b[0;32m/tmp/ipykernel_10969/1008749449.py\u001b[0m in \u001b[0;36m<module>\u001b[0;34m\u001b[0m\n\u001b[1;32m      2\u001b[0m \u001b[0menv\u001b[0m \u001b[0;34m=\u001b[0m \u001b[0msimpy\u001b[0m\u001b[0;34m.\u001b[0m\u001b[0mEnvironment\u001b[0m\u001b[0;34m(\u001b[0m\u001b[0;34m)\u001b[0m\u001b[0;34m\u001b[0m\u001b[0;34m\u001b[0m\u001b[0m\n\u001b[1;32m      3\u001b[0m \u001b[0menv\u001b[0m\u001b[0;34m.\u001b[0m\u001b[0mprocess\u001b[0m\u001b[0;34m(\u001b[0m\u001b[0mrun_simulation\u001b[0m\u001b[0;34m(\u001b[0m\u001b[0menv\u001b[0m\u001b[0;34m,\u001b[0m \u001b[0mNUM_CUSTOMERS\u001b[0m\u001b[0;34m,\u001b[0m \u001b[0mNUM_COOKS\u001b[0m\u001b[0;34m,\u001b[0m \u001b[0mNUM_DELIVERY_STAFF\u001b[0m\u001b[0;34m)\u001b[0m\u001b[0;34m)\u001b[0m\u001b[0;34m\u001b[0m\u001b[0;34m\u001b[0m\u001b[0m\n\u001b[0;32m----> 4\u001b[0;31m \u001b[0menv\u001b[0m\u001b[0;34m.\u001b[0m\u001b[0mrun\u001b[0m\u001b[0;34m(\u001b[0m\u001b[0muntil\u001b[0m\u001b[0;34m=\u001b[0m\u001b[0mSIM_TIME\u001b[0m\u001b[0;34m)\u001b[0m\u001b[0;34m\u001b[0m\u001b[0;34m\u001b[0m\u001b[0m\n\u001b[0m",
      "\u001b[0;32m~/anaconda3/envs/gan/lib/python3.7/site-packages/simpy/core.py\u001b[0m in \u001b[0;36mrun\u001b[0;34m(self, until)\u001b[0m\n\u001b[1;32m    252\u001b[0m         \u001b[0;32mtry\u001b[0m\u001b[0;34m:\u001b[0m\u001b[0;34m\u001b[0m\u001b[0;34m\u001b[0m\u001b[0m\n\u001b[1;32m    253\u001b[0m             \u001b[0;32mwhile\u001b[0m \u001b[0;32mTrue\u001b[0m\u001b[0;34m:\u001b[0m\u001b[0;34m\u001b[0m\u001b[0;34m\u001b[0m\u001b[0m\n\u001b[0;32m--> 254\u001b[0;31m                 \u001b[0mself\u001b[0m\u001b[0;34m.\u001b[0m\u001b[0mstep\u001b[0m\u001b[0;34m(\u001b[0m\u001b[0;34m)\u001b[0m\u001b[0;34m\u001b[0m\u001b[0;34m\u001b[0m\u001b[0m\n\u001b[0m\u001b[1;32m    255\u001b[0m         \u001b[0;32mexcept\u001b[0m \u001b[0mStopSimulation\u001b[0m \u001b[0;32mas\u001b[0m \u001b[0mexc\u001b[0m\u001b[0;34m:\u001b[0m\u001b[0;34m\u001b[0m\u001b[0;34m\u001b[0m\u001b[0m\n\u001b[1;32m    256\u001b[0m             \u001b[0;32mreturn\u001b[0m \u001b[0mexc\u001b[0m\u001b[0;34m.\u001b[0m\u001b[0margs\u001b[0m\u001b[0;34m[\u001b[0m\u001b[0;36m0\u001b[0m\u001b[0;34m]\u001b[0m  \u001b[0;31m# == until.value\u001b[0m\u001b[0;34m\u001b[0m\u001b[0;34m\u001b[0m\u001b[0m\n",
      "\u001b[0;32m~/anaconda3/envs/gan/lib/python3.7/site-packages/simpy/core.py\u001b[0m in \u001b[0;36mstep\u001b[0;34m(self)\u001b[0m\n\u001b[1;32m    204\u001b[0m             \u001b[0mexc\u001b[0m \u001b[0;34m=\u001b[0m \u001b[0mtype\u001b[0m\u001b[0;34m(\u001b[0m\u001b[0mevent\u001b[0m\u001b[0;34m.\u001b[0m\u001b[0m_value\u001b[0m\u001b[0;34m)\u001b[0m\u001b[0;34m(\u001b[0m\u001b[0;34m*\u001b[0m\u001b[0mevent\u001b[0m\u001b[0;34m.\u001b[0m\u001b[0m_value\u001b[0m\u001b[0;34m.\u001b[0m\u001b[0margs\u001b[0m\u001b[0;34m)\u001b[0m\u001b[0;34m\u001b[0m\u001b[0;34m\u001b[0m\u001b[0m\n\u001b[1;32m    205\u001b[0m             \u001b[0mexc\u001b[0m\u001b[0;34m.\u001b[0m\u001b[0m__cause__\u001b[0m \u001b[0;34m=\u001b[0m \u001b[0mevent\u001b[0m\u001b[0;34m.\u001b[0m\u001b[0m_value\u001b[0m\u001b[0;34m\u001b[0m\u001b[0;34m\u001b[0m\u001b[0m\n\u001b[0;32m--> 206\u001b[0;31m             \u001b[0;32mraise\u001b[0m \u001b[0mexc\u001b[0m\u001b[0;34m\u001b[0m\u001b[0;34m\u001b[0m\u001b[0m\n\u001b[0m\u001b[1;32m    207\u001b[0m \u001b[0;34m\u001b[0m\u001b[0m\n\u001b[1;32m    208\u001b[0m     def run(\n",
      "\u001b[0;31mAttributeError\u001b[0m: 'Store' object has no attribute 'append'"
     ]
    }
   ],
   "source": [
    "# 시뮬레이션 실행\n",
    "env = simpy.Environment()\n",
    "env.process(run_simulation(env, NUM_CUSTOMERS, NUM_COOKS, NUM_DELIVERY_STAFF))\n",
    "env.run(until=SIM_TIME)"
   ]
  }
 ],
 "metadata": {
  "kernelspec": {
   "display_name": "Python 3.7.15 ('gan')",
   "language": "python",
   "name": "python3"
  },
  "language_info": {
   "codemirror_mode": {
    "name": "ipython",
    "version": 3
   },
   "file_extension": ".py",
   "mimetype": "text/x-python",
   "name": "python",
   "nbconvert_exporter": "python",
   "pygments_lexer": "ipython3",
   "version": "3.7.15"
  },
  "orig_nbformat": 4,
  "vscode": {
   "interpreter": {
    "hash": "9e81441b0ff7649e145670e79e2443d2542d5d4a20f1371e469844b0d0bc0557"
   }
  }
 },
 "nbformat": 4,
 "nbformat_minor": 2
}
