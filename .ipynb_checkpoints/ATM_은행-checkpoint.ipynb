{
 "cells": [
  {
   "cell_type": "markdown",
   "metadata": {},
   "source": [
    "# ATM_은행\n",
    "- 다른 프로세스 종료될 때까지 기다리는 시스템\n",
    "- ATM 대기열 : `Store`\n",
    "\n",
    "제한된 수의 `세차 기계`와 랜덤하게 도착하는 여러 대의 `자동차`로 이루어진 세차장 시뮬레이션 환경을 생성합니다.\n",
    "\n",
    "세차장은 `Resource`를 사용하여 제한된 수의 `세차 기계`를 모델링합니다.\n",
    "\n",
    "세차장에 차가 도착하면 기계를 요청합니다. 세차 기계를 지급 받으면 세차 프로세스를 시작하고, 세차가 완료될 때까지 기다립니다. 세차가 끝나면 기계를 풀고 차는 떠납니다.\n",
    "\n",
    "자동차는 설정 프로세스에 의해 생성됩니다. 초기 일정한 수의 차량을 만든 후 시뮬레이션이 계속되는 동안 임의의 시간 간격 후에 새로운 자동차 프로세스를 만들게 됩니다.\n"
   ]
  },
  {
   "cell_type": "code",
   "execution_count": 8,
   "metadata": {},
   "outputs": [],
   "source": [
    "import simpy\n",
    "import random\n",
    "\n",
    "class ATM(object):\n",
    "    def __init__(self, env):\n",
    "        self.env = env\n",
    "        self.machine = simpy.Resource(env, capacity=1)\n",
    "    \n",
    "    def use(self, customer):\n",
    "        yield self.env.timeout(random.randint(1, 5))\n"
   ]
  },
  {
   "cell_type": "code",
   "execution_count": null,
   "metadata": {},
   "outputs": [],
   "source": [
    "class Bank(object):\n",
    "    def __init__(self, env, num_ATM, queue_len):\n",
    "        self.env = env\n",
    "        self.atms = [ATM(env) for _ in range(num_ATM)]\n",
    "        self.queue = simpy.resources.store.Store(env, capacity=queue_len)\n",
    "    \n",
    "    def arrive(self, customer):\n",
    "        if len(self.queue.items) < self.queue.capacity:\n",
    "            print(f\"({self.env.now:.1f}){customer}이 은행에 도착하였습니다.\")\n",
    "            self.queue.put(customer)\n",
    "            with self.atms[0].machine.request() as req:\n",
    "                yield req\n",
    "                self.queue.get()\n",
    "                print(f\"({self.env.now:.1f}) {customer} ATM {atms} 사용 시작!\")\n",
    "                yield self.env.process(self.atms[0].use(customer))\n",
    "                print(f\"({self.env.now:.1f}) {customer} ATM {atms} 사용 종료!\")\n",
    "        else:\n",
    "            print(f\"({self.env.now:.1f}){customer}이 ATM에 도착했으나, 줄이 길어서 대기 중!\")"
   ]
  },
  {
   "cell_type": "code",
   "execution_count": 10,
   "metadata": {},
   "outputs": [],
   "source": [
    "def customer_arrivals(env, bank):\n",
    "    customer_num = 0\n",
    "    while True:\n",
    "        yield env.timeout(random.expovariate(1/10))\n",
    "        customer = f\"고객 {customer_num}\"\n",
    "        customer_num += 1\n",
    "        env.process(bank.arrive(customer))"
   ]
  },
  {
   "cell_type": "code",
   "execution_count": 11,
   "metadata": {},
   "outputs": [
    {
     "name": "stdout",
     "output_type": "stream",
     "text": [
      "(3.7)고객 0이 은행에 도착하였습니다.\n",
      "(3.7) 고객 0 ATM 사용 시작!\n",
      "(5.2)고객 1이 은행에 도착하였습니다.\n",
      "(5.7) 고객 0 ATM 사용 종료!\n",
      "(5.7) 고객 1 ATM 사용 시작!\n",
      "(9.7) 고객 1 ATM 사용 종료!\n",
      "(17.3)고객 2이 은행에 도착하였습니다.\n",
      "(17.3) 고객 2 ATM 사용 시작!\n",
      "(20.3) 고객 2 ATM 사용 종료!\n",
      "(26.8)고객 3이 은행에 도착하였습니다.\n",
      "(26.8) 고객 3 ATM 사용 시작!\n",
      "(28.8) 고객 3 ATM 사용 종료!\n",
      "(32.5)고객 4이 은행에 도착하였습니다.\n",
      "(32.5) 고객 4 ATM 사용 시작!\n",
      "(33.5) 고객 4 ATM 사용 종료!\n",
      "(35.8)고객 5이 은행에 도착하였습니다.\n",
      "(35.8) 고객 5 ATM 사용 시작!\n",
      "(36.8) 고객 5 ATM 사용 종료!\n",
      "(46.5)고객 6이 은행에 도착하였습니다.\n",
      "(46.5) 고객 6 ATM 사용 시작!\n"
     ]
    }
   ],
   "source": [
    "env = simpy.Environment()\n",
    "bank = Bank(env, num_ATM=2, queue_len=5)\n",
    "env.process(customer_arrivals(env, bank))\n",
    "env.run(until=50)"
   ]
  }
 ],
 "metadata": {
  "kernelspec": {
   "display_name": "Python 3.7.15 ('gan')",
   "language": "python",
   "name": "python3"
  },
  "language_info": {
   "codemirror_mode": {
    "name": "ipython",
    "version": 3
   },
   "file_extension": ".py",
   "mimetype": "text/x-python",
   "name": "python",
   "nbconvert_exporter": "python",
   "pygments_lexer": "ipython3",
   "version": "3.7.15"
  },
  "orig_nbformat": 4,
  "vscode": {
   "interpreter": {
    "hash": "9e81441b0ff7649e145670e79e2443d2542d5d4a20f1371e469844b0d0bc0557"
   }
  }
 },
 "nbformat": 4,
 "nbformat_minor": 2
}
