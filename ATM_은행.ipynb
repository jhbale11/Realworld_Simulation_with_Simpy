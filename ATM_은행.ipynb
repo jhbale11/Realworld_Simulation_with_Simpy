{
 "cells": [
  {
   "cell_type": "markdown",
   "metadata": {},
   "source": [
    "# ATM_은행\n",
    "- 다른 프로세스 종료될 때까지 기다리는 시스템\n",
    "- ATM 대기열 : `Store`\n",
    "\n",
    "제한된 수의 `ATM 기계`와 랜덤하게 도착하는 `고객`으로 이루어진 은행 ATM 시뮬레이션 환경을 생성합니다.\n",
    "\n",
    "`ATM 대기열`은 `Store`를 사용하여 제한된 수의 `ATM 기계`를 모델링합니다.\n",
    "\n",
    "고객이 도착하면 ATM 대기열에 서게 됩니다. 만약 이미 줄에 서있는 사람의 수가 `queue.capacity` 이하라면 도착한 고객도 줄을 서겠지만, 그 이상이라면 다음에 ATM을 사용할 계획으로 줄을 서지도 않고 대기열을 이탈합니다.\n",
    "\n",
    "본인 차례가 되면 ATM 기계를 사용하며, 사용 종료 이후 은행을 떠납니다."
   ]
  },
  {
   "cell_type": "code",
   "execution_count": 1,
   "metadata": {},
   "outputs": [],
   "source": [
    "import simpy\n",
    "import random\n",
    "\n",
    "class ATM(object):\n",
    "    def __init__(self, env):\n",
    "        self.env = env\n",
    "        self.machine = simpy.Resource(env, capacity=1)\n",
    "    \n",
    "    def use(self, customer):\n",
    "        yield self.env.timeout(random.randint(1, 5))\n"
   ]
  },
  {
   "cell_type": "code",
   "execution_count": 13,
   "metadata": {},
   "outputs": [],
   "source": [
    "class Bank(object):\n",
    "    def __init__(self, env, num_ATM, queue_len):\n",
    "        self.env = env\n",
    "        self.atms = [ATM(env) for _ in range(num_ATM)]\n",
    "        self.queue = simpy.resources.store.Store(env, capacity=queue_len)\n",
    "    \n",
    "    def arrive(self, customer):\n",
    "        if len(self.queue.items) < self.queue.capacity:\n",
    "            print(f\"({self.env.now:.1f}){customer}이 은행에 도착하였습니다.\")\n",
    "            self.queue.put(customer)\n",
    "            with self.atms[0].machine.request() as req:\n",
    "                yield req\n",
    "                self.queue.get()\n",
    "                print(f\"({self.env.now:.1f}) {customer} ATM 사용 시작!\")\n",
    "                yield self.env.process(self.atms[0].use(customer))\n",
    "                print(f\"({self.env.now:.1f}) {customer} ATM 사용 종료!\")\n",
    "        else:\n",
    "            print(f\"({self.env.now:.1f}){customer}이 ATM에 도착했으나, 줄이 길어서 이탈!\")"
   ]
  },
  {
   "cell_type": "code",
   "execution_count": 15,
   "metadata": {},
   "outputs": [],
   "source": [
    "def customer_arrivals(env, bank):\n",
    "    customer_num = 0\n",
    "    while True:\n",
    "        yield env.timeout(random.expovariate(1/3))\n",
    "        customer = f\"고객 {customer_num}\"\n",
    "        customer_num += 1\n",
    "        env.process(bank.arrive(customer))"
   ]
  },
  {
   "cell_type": "code",
   "execution_count": 18,
   "metadata": {},
   "outputs": [
    {
     "name": "stdout",
     "output_type": "stream",
     "text": [
      "(2.9)고객 0이 은행에 도착하였습니다.\n",
      "(2.9) 고객 0 ATM 사용 시작!\n",
      "(4.9) 고객 0 ATM 사용 종료!\n",
      "(10.4)고객 1이 은행에 도착하였습니다.\n",
      "(10.4) 고객 1 ATM 사용 시작!\n",
      "(12.4) 고객 1 ATM 사용 종료!\n",
      "(14.9)고객 2이 은행에 도착하였습니다.\n",
      "(14.9) 고객 2 ATM 사용 시작!\n",
      "(15.9)고객 3이 은행에 도착하였습니다.\n",
      "(16.9)고객 4이 은행에 도착하였습니다.\n",
      "(18.1)고객 5이 은행에 도착하였습니다.\n",
      "(19.9) 고객 2 ATM 사용 종료!\n",
      "(19.9) 고객 3 ATM 사용 시작!\n",
      "(23.2)고객 6이 은행에 도착하였습니다.\n",
      "(23.2)고객 7이 은행에 도착하였습니다.\n",
      "(24.6)고객 8이 은행에 도착하였습니다.\n",
      "(24.9) 고객 3 ATM 사용 종료!\n",
      "(24.9) 고객 4 ATM 사용 시작!\n",
      "(26.9) 고객 4 ATM 사용 종료!\n",
      "(26.9) 고객 5 ATM 사용 시작!\n",
      "(28.3)고객 9이 은행에 도착하였습니다.\n",
      "(30.9) 고객 5 ATM 사용 종료!\n",
      "(30.9) 고객 6 ATM 사용 시작!\n",
      "(31.2)고객 10이 은행에 도착하였습니다.\n",
      "(31.9) 고객 6 ATM 사용 종료!\n",
      "(31.9) 고객 7 ATM 사용 시작!\n",
      "(32.2)고객 11이 은행에 도착하였습니다.\n",
      "(36.3)고객 12이 은행에 도착하였습니다.\n",
      "(36.6)고객 13이 ATM에 도착했으나, 줄이 길어서 대기 중!\n",
      "(36.9) 고객 7 ATM 사용 종료!\n",
      "(36.9) 고객 8 ATM 사용 시작!\n",
      "(38.9) 고객 8 ATM 사용 종료!\n",
      "(38.9) 고객 9 ATM 사용 시작!\n",
      "(40.1)고객 14이 은행에 도착하였습니다.\n",
      "(40.7)고객 15이 은행에 도착하였습니다.\n",
      "(40.9) 고객 9 ATM 사용 종료!\n",
      "(40.9) 고객 10 ATM 사용 시작!\n",
      "(43.2)고객 16이 은행에 도착하였습니다.\n",
      "(43.8)고객 17이 ATM에 도착했으나, 줄이 길어서 대기 중!\n",
      "(43.9)고객 18이 ATM에 도착했으나, 줄이 길어서 대기 중!\n",
      "(43.9) 고객 10 ATM 사용 종료!\n",
      "(43.9) 고객 11 ATM 사용 시작!\n",
      "(44.0)고객 19이 은행에 도착하였습니다.\n",
      "(45.9) 고객 11 ATM 사용 종료!\n",
      "(45.9) 고객 12 ATM 사용 시작!\n",
      "(46.9) 고객 12 ATM 사용 종료!\n",
      "(46.9) 고객 14 ATM 사용 시작!\n",
      "(48.1)고객 20이 은행에 도착하였습니다.\n",
      "(49.1)고객 21이 은행에 도착하였습니다.\n"
     ]
    }
   ],
   "source": [
    "env = simpy.Environment()\n",
    "bank = Bank(env, num_ATM=3, queue_len=5)\n",
    "env.process(customer_arrivals(env, bank))\n",
    "env.run(until=50)"
   ]
  }
 ],
 "metadata": {
  "kernelspec": {
   "display_name": "Python 3.7.15 ('gan')",
   "language": "python",
   "name": "python3"
  },
  "language_info": {
   "codemirror_mode": {
    "name": "ipython",
    "version": 3
   },
   "file_extension": ".py",
   "mimetype": "text/x-python",
   "name": "python",
   "nbconvert_exporter": "python",
   "pygments_lexer": "ipython3",
   "version": "3.7.15"
  },
  "orig_nbformat": 4,
  "vscode": {
   "interpreter": {
    "hash": "9e81441b0ff7649e145670e79e2443d2542d5d4a20f1371e469844b0d0bc0557"
   }
  }
 },
 "nbformat": 4,
 "nbformat_minor": 2
}
